{
  "nbformat": 4,
  "nbformat_minor": 0,
  "metadata": {
    "colab": {
      "provenance": [],
      "authorship_tag": "ABX9TyPvVYKSlLip15lLX62UXROL",
      "include_colab_link": true
    },
    "kernelspec": {
      "name": "python3",
      "display_name": "Python 3"
    },
    "language_info": {
      "name": "python"
    }
  },
  "cells": [
    {
      "cell_type": "markdown",
      "metadata": {
        "id": "view-in-github",
        "colab_type": "text"
      },
      "source": [
        "<a href=\"https://colab.research.google.com/github/2303A51144/2303a51144_B17/blob/main/Assignment_2.ipynb\" target=\"_parent\"><img src=\"https://colab.research.google.com/assets/colab-badge.svg\" alt=\"Open In Colab\"/></a>"
      ]
    },
    {
      "cell_type": "code",
      "execution_count": 2,
      "metadata": {
        "colab": {
          "base_uri": "https://localhost:8080/"
        },
        "id": "yB018A3OiLd-",
        "outputId": "6e246e8e-de67-4ebc-b3f3-1c5ff9279f5a"
      },
      "outputs": [
        {
          "output_type": "stream",
          "name": "stdout",
          "text": [
            "Student Marks:\n",
            "[[85 90 78]\n",
            " [70 88 92]\n",
            " [95 80 85]\n",
            " [60 75 68]]\n",
            "Average marks of each student: [84.33333333 83.33333333 86.66666667 67.66666667]\n",
            "Minimum marks of each student: [78 70 80 60]\n",
            "Maximum marks of each student: [90 92 95 75]\n",
            "Average marks in each subject: [77.5  83.25 80.75]\n",
            "Minimum marks in each subject: [60 75 68]\n",
            "Maximum marks in each subject: [95 90 92]\n",
            "Marks of Student 2: [70 88 92]\n",
            "Students scoring above 80 in any subject:\n",
            "[85 90 88 92 95 85]\n",
            "Analysis:\n",
            "1. Student 3 performed best overall with high marks in all subjects.\n",
            "2. Student 4 needs improvement as scores are the lowest across subjec.\n",
            "3. Subject 3 shows consistently high performance among students.\n"
          ]
        }
      ],
      "source": [
        "import numpy as np\n",
        "marks = np.array([[85, 90, 78],\n",
        "                  [70, 88, 92],\n",
        "                  [95, 80, 85],\n",
        "                  [60, 75, 68]])\n",
        "print(\"Student Marks:\" )\n",
        "print(marks)\n",
        "print(\"Average marks of each student:\" , np.mean(marks, axis= 1))\n",
        "print(\"Minimum marks of each student:\" , np.min(marks, axis= 1))\n",
        "print(\"Maximum marks of each student:\" , np.max(marks, axis= 1))\n",
        "print(\"Average marks in each subject:\" , np.mean(marks, axis= 0))\n",
        "print(\"Minimum marks in each subject:\" , np.min(marks, axis= 0))\n",
        "print(\"Maximum marks in each subject:\" , np.max(marks, axis= 0))\n",
        "print(\"Marks of Student 2:\" , marks[ 1, :])\n",
        "print(\"Students scoring above 80 in any subject:\" )\n",
        "print(marks[marks > 80])\n",
        "print(\"Analysis:\" )\n",
        "print(\"1. Student 3 performed best overall with high marks in all subjects.\" )\n",
        "print(\"2. Student 4 needs improvement as scores are the lowest across subjec.\" )\n",
        "print(\"3. Subject 3 shows consistently high performance among students.\" )"
      ]
    },
    {
      "cell_type": "code",
      "source": [
        "import pandas as pd\n",
        "data = {\n",
        " \"ID\": [101, 102, 103, 104, 105],\n",
        " \"Name\": [\"Alice\", \"Bob\", \"Charlie\", \"David\", \"Eva\"],\n",
        " \"Department\": [\"HR\", \"IT\", \"Finance\", \"IT\", \"HR\"],\n",
        " \"Salary\": [48000, 60000, 55000, 45000, 70000]\n",
        "}\n",
        "df = pd.DataFrame(data)\n",
        "print(\"Original Employee DataFrame:\\n\", df)\n",
        "# employees with salary > 50,000\n",
        "high_salary = df[df[\"Salary\"] > 50000]\n",
        "print(\"\\nEmployees with Salary > 50,000:\\n\", high_salary)\n",
        "#salary in descending order\n",
        "sorted_df = df.sort_values(by=\"Salary\", ascending=False)\n",
        "print(\"\\nEmployees Sorted by Salary (Descending):\\n\", sorted_df)\n",
        "#Bonus (10% of salary)\n",
        "df[\"Bonus\"] = df[\"Salary\"] * 0.10\n",
        "print(\"\\nDataFrame with Bonus Column:\\n\", df)\n",
        "#Calculate total salary expense including bonus\n",
        "df[\"TotalPay\"] = df[\"Salary\"] + df[\"Bonus\"]\n",
        "total_expense = df[\"TotalPay\"].sum()\n",
        "print(\"\\nTotal Salary Expense (with Bonus):\", total_expense)"
      ],
      "metadata": {
        "colab": {
          "base_uri": "https://localhost:8080/"
        },
        "id": "CmLNxCbvi7qL",
        "outputId": "36c4337d-7ea8-4854-f38c-1c968c1c94c9"
      },
      "execution_count": 5,
      "outputs": [
        {
          "output_type": "stream",
          "name": "stdout",
          "text": [
            "Original Employee DataFrame:\n",
            "     ID     Name Department  Salary\n",
            "0  101    Alice         HR   48000\n",
            "1  102      Bob         IT   60000\n",
            "2  103  Charlie    Finance   55000\n",
            "3  104    David         IT   45000\n",
            "4  105      Eva         HR   70000\n",
            "\n",
            "Employees with Salary > 50,000:\n",
            "     ID     Name Department  Salary\n",
            "1  102      Bob         IT   60000\n",
            "2  103  Charlie    Finance   55000\n",
            "4  105      Eva         HR   70000\n",
            "\n",
            "Employees Sorted by Salary (Descending):\n",
            "     ID     Name Department  Salary\n",
            "4  105      Eva         HR   70000\n",
            "1  102      Bob         IT   60000\n",
            "2  103  Charlie    Finance   55000\n",
            "0  101    Alice         HR   48000\n",
            "3  104    David         IT   45000\n",
            "\n",
            "DataFrame with Bonus Column:\n",
            "     ID     Name Department  Salary   Bonus\n",
            "0  101    Alice         HR   48000  4800.0\n",
            "1  102      Bob         IT   60000  6000.0\n",
            "2  103  Charlie    Finance   55000  5500.0\n",
            "3  104    David         IT   45000  4500.0\n",
            "4  105      Eva         HR   70000  7000.0\n",
            "\n",
            "Total Salary Expense (with Bonus): 305800.0\n"
          ]
        }
      ]
    }
  ]
}