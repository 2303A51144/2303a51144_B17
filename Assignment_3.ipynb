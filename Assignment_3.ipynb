{
  "nbformat": 4,
  "nbformat_minor": 0,
  "metadata": {
    "colab": {
      "provenance": [],
      "authorship_tag": "ABX9TyPqmLMrmIZKBASqIdrzz7+Z",
      "include_colab_link": true
    },
    "kernelspec": {
      "name": "python3",
      "display_name": "Python 3"
    },
    "language_info": {
      "name": "python"
    }
  },
  "cells": [
    {
      "cell_type": "markdown",
      "metadata": {
        "id": "view-in-github",
        "colab_type": "text"
      },
      "source": [
        "<a href=\"https://colab.research.google.com/github/2303A51144/2303a51144_B17/blob/main/Assignment_3.ipynb\" target=\"_parent\"><img src=\"https://colab.research.google.com/assets/colab-badge.svg\" alt=\"Open In Colab\"/></a>"
      ]
    },
    {
      "cell_type": "code",
      "execution_count": 2,
      "metadata": {
        "colab": {
          "base_uri": "https://localhost:8080/"
        },
        "id": "YpnC36dFgiO0",
        "outputId": "a071a84a-31fe-4fd1-b53b-ab6381132109"
      },
      "outputs": [
        {
          "output_type": "stream",
          "name": "stdout",
          "text": [
            "Matrix A:\n",
            " [[1 2 3]\n",
            " [4 5 6]\n",
            " [7 8 9]]\n",
            "Matrix B:\n",
            " [[9 8 7]\n",
            " [6 5 4]\n",
            " [3 2 1]]\n",
            "A + B:\n",
            " [[10 10 10]\n",
            " [10 10 10]\n",
            " [10 10 10]]\n",
            "A - B:\n",
            " [[-8 -6 -4]\n",
            " [-2  0  2]\n",
            " [ 4  6  8]]\n"
          ]
        }
      ],
      "source": [
        "import numpy as np\n",
        "A = np.array ([[1, 2, 3],\n",
        "[4, 5, 6],\n",
        "[7, 8, 9]])\n",
        "B = np.array ([[9, 8, 7],\n",
        "[6, 5, 4],\n",
        "[3, 2, 1]])\n",
        "print(\"Matrix A:\\n\" , A)\n",
        "print(\"Matrix B:\\n\" , B)\n",
        "print(\"A + B:\\n\" , np.add (A, B))\n",
        "print(\"A - B:\\n\" , np.subtract (A, B))"
      ]
    },
    {
      "cell_type": "code",
      "source": [
        "import numpy as np\n",
        "A = np.array([[ 1, 2],\n",
        "[ 3, 4],\n",
        "[ 5, 6]])\n",
        "B = np.array([[ 7, 8, 9],\n",
        "[ 10, 11, 12]])\n",
        "print(\"Matrix A (3x2):\\n\" , A)\n",
        "print(\"Matrix B (2x3):\\n\" , B)\n",
        "C = np.dot(A, B)\n",
        "print(\"Result of A x B (3x3):\\n\" , C)"
      ],
      "metadata": {
        "colab": {
          "base_uri": "https://localhost:8080/"
        },
        "id": "CpbBCErbhHbf",
        "outputId": "22e6eacb-90bd-49fa-f22a-e8ec66649683"
      },
      "execution_count": 4,
      "outputs": [
        {
          "output_type": "stream",
          "name": "stdout",
          "text": [
            "Matrix A (3x2):\n",
            " [[1 2]\n",
            " [3 4]\n",
            " [5 6]]\n",
            "Matrix B (2x3):\n",
            " [[ 7  8  9]\n",
            " [10 11 12]]\n",
            "Result of A x B (3x3):\n",
            " [[ 27  30  33]\n",
            " [ 61  68  75]\n",
            " [ 95 106 117]]\n"
          ]
        }
      ]
    }
  ]
}