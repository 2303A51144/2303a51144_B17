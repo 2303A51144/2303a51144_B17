{
  "nbformat": 4,
  "nbformat_minor": 0,
  "metadata": {
    "colab": {
      "provenance": [],
      "authorship_tag": "ABX9TyOC4HSeSRiC3llCIz7A1Ht5",
      "include_colab_link": true
    },
    "kernelspec": {
      "name": "python3",
      "display_name": "Python 3"
    },
    "language_info": {
      "name": "python"
    }
  },
  "cells": [
    {
      "cell_type": "markdown",
      "metadata": {
        "id": "view-in-github",
        "colab_type": "text"
      },
      "source": [
        "<a href=\"https://colab.research.google.com/github/2303A51144/2303a51144_B17/blob/main/Assignment_1.ipynb\" target=\"_parent\"><img src=\"https://colab.research.google.com/assets/colab-badge.svg\" alt=\"Open In Colab\"/></a>"
      ]
    },
    {
      "cell_type": "code",
      "execution_count": 3,
      "metadata": {
        "colab": {
          "base_uri": "https://localhost:8080/"
        },
        "id": "GOotV9BlkBIi",
        "outputId": "b5531acf-b610-44f6-b993-8ca2d86ded87"
      },
      "outputs": [
        {
          "output_type": "stream",
          "name": "stdout",
          "text": [
            "Enter n value: 5\n",
            "Enter r value: 4\n",
            "5P4 = 120\n"
          ]
        }
      ],
      "source": [
        "def factorial(n):\n",
        "    if n == 0 or n == 1:\n",
        "        return 1\n",
        "    else:\n",
        "        return n * factorial(n-1)\n",
        "n = int(input(\"Enter n value: \"))\n",
        "r = int(input(\"Enter r value: \"))\n",
        "if n < r or n < 0 or r < 0:\n",
        "    print(\"Invalid input\")\n",
        "else:\n",
        "    nPr = factorial(n) // factorial(n - r)\n",
        "    print(f\"{n}P{r} = {nPr}\")"
      ]
    },
    {
      "cell_type": "code",
      "source": [
        "def factorial(n):\n",
        "    if n == 0 or n == 1:\n",
        "        return 1\n",
        "    else:\n",
        "        return n * factorial(n - 1)\n",
        "def iterative_factorial(n):\n",
        "    result = 1\n",
        "    for i in range(2, n + 1):\n",
        "        result *= i\n",
        "    return result\n",
        "n = int(input(\"Enter a number: \"))\n",
        "if n > 998:\n",
        "    print(\"Invalid input\")\n",
        "rec_result = factorial(n)\n",
        "iter_result = iterative_factorial(n)\n",
        "print(f\"Recursive factorial({n}): {str(rec_result)[:60]}\")\n",
        "print(f\"Iterative factorial({n}): {str(iter_result)[:60]}\")\n",
        "if rec_result == iter_result:\n",
        "    print(\"Both methods give the same result.\")\n",
        "else:\n",
        "    print(\"Results differ, possibly due to recursion limit.\")"
      ],
      "metadata": {
        "colab": {
          "base_uri": "https://localhost:8080/"
        },
        "id": "PIpFsbyTkvoC",
        "outputId": "ad17e1c3-5589-4796-d5b2-42708c08a8c2"
      },
      "execution_count": 5,
      "outputs": [
        {
          "output_type": "stream",
          "name": "stdout",
          "text": [
            "Enter a number: 4\n",
            "Recursive factorial(4): 24\n",
            "Iterative factorial(4): 24\n",
            "Both methods give the same result.\n"
          ]
        }
      ]
    }
  ]
}