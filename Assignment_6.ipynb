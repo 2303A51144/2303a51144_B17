{
  "nbformat": 4,
  "nbformat_minor": 0,
  "metadata": {
    "colab": {
      "provenance": [],
      "authorship_tag": "ABX9TyPGnHhWW63rTUBrf9Tc5CMT",
      "include_colab_link": true
    },
    "kernelspec": {
      "name": "python3",
      "display_name": "Python 3"
    },
    "language_info": {
      "name": "python"
    }
  },
  "cells": [
    {
      "cell_type": "markdown",
      "metadata": {
        "id": "view-in-github",
        "colab_type": "text"
      },
      "source": [
        "<a href=\"https://colab.research.google.com/github/2303A51144/2303a51144_B17/blob/main/Assignment_6.ipynb\" target=\"_parent\"><img src=\"https://colab.research.google.com/assets/colab-badge.svg\" alt=\"Open In Colab\"/></a>"
      ]
    },
    {
      "cell_type": "code",
      "execution_count": 4,
      "metadata": {
        "colab": {
          "base_uri": "https://localhost:8080/"
        },
        "id": "Ruj3oy1kiud_",
        "outputId": "bc06de2e-a98c-4ac5-cc08-4ff5d449f36b"
      },
      "outputs": [
        {
          "output_type": "stream",
          "name": "stdout",
          "text": [
            "First 5 rows of Titanic dataset:\n",
            "   PassengerId  Survived  Pclass  \\\n",
            "0            1         0       3   \n",
            "1            2         1       1   \n",
            "2            3         1       3   \n",
            "3            4         1       1   \n",
            "4            5         0       3   \n",
            "\n",
            "                                                Name     Sex   Age  SibSp  \\\n",
            "0                            Braund, Mr. Owen Harris    male  22.0      1   \n",
            "1  Cumings, Mrs. John Bradley (Florence Briggs Th...  female  38.0      1   \n",
            "2                             Heikkinen, Miss. Laina  female  26.0      0   \n",
            "3       Futrelle, Mrs. Jacques Heath (Lily May Peel)  female  35.0      1   \n",
            "4                           Allen, Mr. William Henry    male  35.0      0   \n",
            "\n",
            "   Parch            Ticket     Fare Cabin Embarked  \n",
            "0      0         A/5 21171   7.2500   NaN        S  \n",
            "1      0          PC 17599  71.2833   C85        C  \n",
            "2      0  STON/O2. 3101282   7.9250   NaN        S  \n",
            "3      0            113803  53.1000  C123        S  \n",
            "4      0            373450   8.0500   NaN        S  \n",
            "\n",
            "Missing values BEFORE cleaning:\n",
            "PassengerId      0\n",
            "Survived         0\n",
            "Pclass           0\n",
            "Name             0\n",
            "Sex              0\n",
            "Age            177\n",
            "SibSp            0\n",
            "Parch            0\n",
            "Ticket           0\n",
            "Fare             0\n",
            "Cabin          687\n",
            "Embarked         2\n",
            "dtype: int64\n",
            "\n",
            "Missing values AFTER cleaning:\n",
            "PassengerId    0\n",
            "Survived       0\n",
            "Pclass         0\n",
            "Name           0\n",
            "Sex            0\n",
            "Age            0\n",
            "SibSp          0\n",
            "Parch          0\n",
            "Fare           0\n",
            "Embarked       0\n",
            "dtype: int64\n",
            "\n",
            "✅ Cleaned dataset saved as 'titanic_cleaned.csv'\n",
            "\n",
            "Summary of Cleaned Dataset:\n",
            "        PassengerId    Survived      Pclass                 Name   Sex  \\\n",
            "count    891.000000  891.000000  891.000000                  891   891   \n",
            "unique          NaN         NaN         NaN                  891     2   \n",
            "top             NaN         NaN         NaN  Dooley, Mr. Patrick  male   \n",
            "freq            NaN         NaN         NaN                    1   577   \n",
            "mean     446.000000    0.383838    2.308642                  NaN   NaN   \n",
            "std      257.353842    0.486592    0.836071                  NaN   NaN   \n",
            "min        1.000000    0.000000    1.000000                  NaN   NaN   \n",
            "25%      223.500000    0.000000    2.000000                  NaN   NaN   \n",
            "50%      446.000000    0.000000    3.000000                  NaN   NaN   \n",
            "75%      668.500000    1.000000    3.000000                  NaN   NaN   \n",
            "max      891.000000    1.000000    3.000000                  NaN   NaN   \n",
            "\n",
            "               Age       SibSp       Parch        Fare Embarked  \n",
            "count   891.000000  891.000000  891.000000  891.000000      891  \n",
            "unique         NaN         NaN         NaN         NaN        3  \n",
            "top            NaN         NaN         NaN         NaN        S  \n",
            "freq           NaN         NaN         NaN         NaN      646  \n",
            "mean     29.699118    0.523008    0.381594   32.204208      NaN  \n",
            "std      13.002015    1.102743    0.806057   49.693429      NaN  \n",
            "min       0.420000    0.000000    0.000000    0.000000      NaN  \n",
            "25%      22.000000    0.000000    0.000000    7.910400      NaN  \n",
            "50%      29.699118    0.000000    0.000000   14.454200      NaN  \n",
            "75%      35.000000    1.000000    0.000000   31.000000      NaN  \n",
            "max      80.000000    8.000000    6.000000  512.329200      NaN  \n"
          ]
        }
      ],
      "source": [
        "import pandas as pd\n",
        "titanic = pd.read_csv(\"/content/Titanic-Dataset.csv\")\n",
        "print(\"First 5 rows of Titanic dataset:\")\n",
        "print(titanic.head())\n",
        "print(\"\\nMissing values BEFORE cleaning:\")\n",
        "print(titanic.isnull().sum())\n",
        "titanic['Age'] = titanic['Age'].fillna(titanic['Age'].mean())\n",
        "titanic['Embarked'] = titanic['Embarked'].fillna(titanic['Embarked'].mode()[0])\n",
        "titanic.drop('Cabin', axis=1, inplace=True)\n",
        "titanic.drop('Ticket', axis=1, inplace=True)\n",
        "print(\"\\nMissing values AFTER cleaning:\")\n",
        "print(titanic.isnull().sum())\n",
        "titanic.to_csv(\"titanic_cleaned.csv\", index=False)\n",
        "print(\"\\n✅ Cleaned dataset saved as 'titanic_cleaned.csv'\")\n",
        "print(\"\\nSummary of Cleaned Dataset:\")\n",
        "print(titanic.describe(include=\"all\"))\n"
      ]
    },
    {
      "cell_type": "code",
      "source": [
        "import pandas as pd\n",
        "students = pd.read_csv(\"students.csv\")\n",
        "print(\"Original Dataset with Inconsistent Gender:\")\n",
        "print(students)\n",
        "students[\"Gender\"] = students[\"Gender\"].str.lower().map({\n",
        "    \"m\": \"Male\",\n",
        "    \"male\": \"Male\",\n",
        "    \"f\": \"Female\",\n",
        "    \"female\": \"Female\"\n",
        "})\n",
        "\n",
        "print(\"\\n Cleaned Dataset with Standardized Gender:\")\n",
        "print(students)\n",
        "print(\"\\nUnique Gender categories AFTER cleaning:\")\n",
        "print(students[\"Gender\"].unique())"
      ],
      "metadata": {
        "colab": {
          "base_uri": "https://localhost:8080/"
        },
        "id": "F5wwhqVylM59",
        "outputId": "1ea6ff58-3b45-4917-9d87-fbee00c843ca"
      },
      "execution_count": 8,
      "outputs": [
        {
          "output_type": "stream",
          "name": "stdout",
          "text": [
            "Original Dataset with Inconsistent Gender:\n",
            "   StudentID     Name  Gender  Score\n",
            "0          1    Alice       M     85\n",
            "1          2      Bob    Male     78\n",
            "2          3  Charlie    male     92\n",
            "3          4    David       F     88\n",
            "4          5      Eva  Female     76\n",
            "5          6    Frank  female     95\n",
            "\n",
            " Cleaned Dataset with Standardized Gender:\n",
            "   StudentID     Name  Gender  Score\n",
            "0          1    Alice    Male     85\n",
            "1          2      Bob    Male     78\n",
            "2          3  Charlie    Male     92\n",
            "3          4    David  Female     88\n",
            "4          5      Eva  Female     76\n",
            "5          6    Frank  Female     95\n",
            "\n",
            "Unique Gender categories AFTER cleaning:\n",
            "['Male' 'Female']\n"
          ]
        }
      ]
    }
  ]
}