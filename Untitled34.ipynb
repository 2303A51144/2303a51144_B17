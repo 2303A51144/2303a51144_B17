{
  "nbformat": 4,
  "nbformat_minor": 0,
  "metadata": {
    "colab": {
      "provenance": [],
      "authorship_tag": "ABX9TyOoSxSc/G78hzWubG0JWib0",
      "include_colab_link": true
    },
    "kernelspec": {
      "name": "python3",
      "display_name": "Python 3"
    },
    "language_info": {
      "name": "python"
    }
  },
  "cells": [
    {
      "cell_type": "markdown",
      "metadata": {
        "id": "view-in-github",
        "colab_type": "text"
      },
      "source": [
        "<a href=\"https://colab.research.google.com/github/2303A51144/2303a51144_B17/blob/main/Untitled34.ipynb\" target=\"_parent\"><img src=\"https://colab.research.google.com/assets/colab-badge.svg\" alt=\"Open In Colab\"/></a>"
      ]
    },
    {
      "cell_type": "code",
      "execution_count": 5,
      "metadata": {
        "colab": {
          "base_uri": "https://localhost:8080/"
        },
        "id": "F_-uGCMKRCSt",
        "outputId": "419afb39-8ff0-409c-819d-be2b75e48dce"
      },
      "outputs": [
        {
          "output_type": "stream",
          "name": "stdout",
          "text": [
            "Enter a number:5\n",
            "The factorial of 5 is 120\n"
          ]
        }
      ],
      "source": [
        "def factorial(n):\n",
        "  #Base case: factorial of 0 or 1 is 1\n",
        "  if n==0 or n==1:\n",
        "    return 1\n",
        "  else:\n",
        "      #recursive case: n*factorial of (n-1)\n",
        "      return n*factorial(n-1)\n",
        "number=int(input(\"Enter a number:\"))\n",
        "if number<0:\n",
        "  print(\"Factorial is not defined for negative numbers.\")\n",
        "else:\n",
        "  result=factorial(number)\n",
        "  print(\"The factorial of\",number,\"is\",result)"
      ]
    }
  ]
}