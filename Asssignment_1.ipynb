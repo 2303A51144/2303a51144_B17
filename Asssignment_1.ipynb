{
  "nbformat": 4,
  "nbformat_minor": 0,
  "metadata": {
    "colab": {
      "provenance": [],
      "authorship_tag": "ABX9TyPduqGIUqeYjAHGVdTJvEJu",
      "include_colab_link": true
    },
    "kernelspec": {
      "name": "python3",
      "display_name": "Python 3"
    },
    "language_info": {
      "name": "python"
    }
  },
  "cells": [
    {
      "cell_type": "markdown",
      "metadata": {
        "id": "view-in-github",
        "colab_type": "text"
      },
      "source": [
        "<a href=\"https://colab.research.google.com/github/2303A51144/2303a51144_B17/blob/main/Asssignment_1.ipynb\" target=\"_parent\"><img src=\"https://colab.research.google.com/assets/colab-badge.svg\" alt=\"Open In Colab\"/></a>"
      ]
    },
    {
      "cell_type": "code",
      "execution_count": 5,
      "metadata": {
        "colab": {
          "base_uri": "https://localhost:8080/"
        },
        "id": "F_-uGCMKRCSt",
        "outputId": "419afb39-8ff0-409c-819d-be2b75e48dce"
      },
      "outputs": [
        {
          "output_type": "stream",
          "name": "stdout",
          "text": [
            "Enter a number:5\n",
            "The factorial of 5 is 120\n"
          ]
        }
      ],
      "source": [
        "def factorial(n):\n",
        "  #Base case: factorial of 0 or 1 is 1\n",
        "  if n==0 or n==1:\n",
        "    return 1\n",
        "  else:\n",
        "      #recursive case: n*factorial of (n-1)\n",
        "      return n*factorial(n-1)\n",
        "number=int(input(\"Enter a number:\"))\n",
        "if number<0:\n",
        "  print(\"Factorial is not defined for negative numbers.\")\n",
        "else:\n",
        "  result=factorial(number)\n",
        "  print(\"The factorial of\",number,\"is\",result)"
      ]
    },
    {
      "cell_type": "code",
      "source": [
        "def factorial(n):\n",
        "    if n == 0 or n == 1:\n",
        "        return 1\n",
        "    return n * factorial(n - 1)\n",
        "\n",
        "def compute_permutation(n, r):\n",
        "    if n < r:\n",
        "        raise ValueError(\"Invalid input: n must be greater than or equal to r.\")\n",
        "    print(f\"Calculating {n}P{r} = {n}! / ({n} - {r})!\")\n",
        "    numerator = factorial(n)\n",
        "    denominator = factorial(n - r)\n",
        "    print(f\"{n}! = {numerator}\")\n",
        "    print(f\"({n}-{r})! = {denominator}\")\n",
        "    result = numerator // denominator\n",
        "    print(f\"Permutations = {result}\")\n",
        "    return result\n",
        "\n",
        "# Example Usage\n",
        "try:\n",
        "    n = int(input(\"Enter total number of people (n): \"))\n",
        "    r = int(input(\"Enter number of places (r): \"))\n",
        "    compute_permutation(n, r)\n",
        "except ValueError as e:\n",
        "    print(\"Error:\", e)\n"
      ],
      "metadata": {
        "colab": {
          "base_uri": "https://localhost:8080/"
        },
        "id": "9Ch2svj7YCZ4",
        "outputId": "2f44d471-eaca-4c91-a677-1d324a085f22"
      },
      "execution_count": 7,
      "outputs": [
        {
          "output_type": "stream",
          "name": "stdout",
          "text": [
            "Enter total number of people (n): 5\n",
            "Enter number of places (r): 2\n",
            "Calculating 5P2 = 5! / (5 - 2)!\n",
            "5! = 120\n",
            "(5-2)! = 6\n",
            "Permutations = 20\n"
          ]
        }
      ]
    },
    {
      "cell_type": "code",
      "source": [
        "import sys\n",
        "import matplotlib.pyplot as plt\n",
        "\n",
        "#  Recursive factorial with safety checks\n",
        "def recursive_factorial(n):\n",
        "    if n < 0:\n",
        "        raise ValueError(\"Factorial is not defined for negative numbers.\")\n",
        "    if n > 998:\n",
        "        print(\"Warning: Recursive depth may exceed Python's default limit.\")\n",
        "    if n == 0 or n == 1:\n",
        "        return 1\n",
        "    return n * recursive_factorial(n - 1)\n",
        "\n",
        "# Iterative factorial\n",
        "def iterative_factorial(n):\n",
        "    if n < 0:\n",
        "        raise ValueError(\"Factorial is not defined for negative numbers.\")\n",
        "    result = 1\n",
        "    for i in range(2, n + 1):\n",
        "        result *= i\n",
        "    return result\n",
        "\n",
        "#optional: Plot factorial growth\n",
        "def plot_factorials(up_to=20):\n",
        "    x_vals = list(range(up_to + 1))\n",
        "    y_vals = [iterative_factorial(x) for x in x_vals]\n",
        "    plt.figure(figsize=(10, 6))\n",
        "    plt.plot(x_vals, y_vals, marker='o', color='purple')\n",
        "    plt.title(\"Factorial Growth\")\n",
        "    plt.xlabel(\"n\")\n",
        "    plt.ylabel(\"n!\")\n",
        "    plt.grid(True)\n",
        "    plt.show()\n",
        "\n",
        "# Main block to run factorials and compare\n",
        "def main():\n",
        "    print(f\"Max recursion depth allowed: {sys.getrecursionlimit()}\")\n",
        "    n = int(input(\"Enter a number to calculate factorial: \"))\n",
        "\n",
        "    try:\n",
        "        rec_result = recursive_factorial(n)\n",
        "        print(f\"Recursive factorial of {n} = {rec_result}\")\n",
        "    except RecursionError:\n",
        "        print(f\"RecursionError: n = {n} exceeds safe recursion depth.\")\n",
        "\n",
        "    iter_result = iterative_factorial(n)\n",
        "    print(f\"Iterative factorial of {n} = {iter_result}\")\n",
        "\n",
        "    if n <= 20:  # Avoid plotting massive factorials\n",
        "        plot_factorials(up_to=n)\n",
        "\n",
        "if __name__ == \"__main__\":\n",
        "    main()\n"
      ],
      "metadata": {
        "colab": {
          "base_uri": "https://localhost:8080/",
          "height": 633
        },
        "id": "go-NqmXFbN6N",
        "outputId": "cb65efaa-7b7c-4cf0-f504-fd111bd63165"
      },
      "execution_count": 11,
      "outputs": [
        {
          "output_type": "stream",
          "name": "stdout",
          "text": [
            "Max recursion depth allowed: 1000\n",
            "Enter a number to calculate factorial: 10\n",
            "Recursive factorial of 10 = 3628800\n",
            "Iterative factorial of 10 = 3628800\n"
          ]
        },
        {
          "output_type": "display_data",
          "data": {
            "text/plain": [
              "<Figure size 1000x600 with 1 Axes>"
            ],
            "image/png": "[encoded data removed]"
          },
          "metadata": {}
        }
      ]
    }
  ]
}